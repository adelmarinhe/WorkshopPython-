{
 "cells": [
  {
   "cell_type": "markdown",
   "id": "3c2c8399-ff61-440c-99bd-9fcd8282d2c5",
   "metadata": {},
   "source": [
    "QUESTAO 1 \n",
    "\n",
    "Escreva um programa que receba como entrada um número inteiro positivo e exiba todos os divisores positivos dele em ordem decrescente."
   ]
  },
  {
   "cell_type": "code",
   "execution_count": 121,
   "id": "bb06bd97-861d-4dc5-88db-723d9475b88c",
   "metadata": {
    "tags": []
   },
   "outputs": [
    {
     "name": "stdout",
     "output_type": "stream",
     "text": [
      "4\n",
      "2\n",
      "1\n"
     ]
    }
   ],
   "source": [
    "n1 = int(input())\n",
    "\n",
    "div_n1 = []\n",
    "\n",
    "for i in range(n1):\n",
    "    if n1%(i+1) == 0:\n",
    "        div_n1.append(i+1)\n",
    "\n",
    "N = len(div_n1)\n",
    "while N > 0:\n",
    "    print(div_n1[N-1])\n",
    "    N = N - 1"
   ]
  },
  {
   "cell_type": "markdown",
   "id": "9fbc94ba-615a-4f63-b88d-3ffe0bf08a51",
   "metadata": {},
   "source": [
    "QUESTAO 2\n",
    "\n",
    "Uma pessoa aplicou seu capital a juros e deseja saber, trimestralmente, a posição de seu investimento C inicial. Chamando de i a taxa de juros do trimestre,\n",
    "escreva uma tabela que, para cada trimestre, dê o rendimento auferido e o saldo acumulado durante um período de X anos, supondo-se que nenhuma retirada tenha sido feita."
   ]
  },
  {
   "cell_type": "code",
   "execution_count": null,
   "id": "f850652f-5042-486a-b77e-ae64523cd0c2",
   "metadata": {
    "tags": []
   },
   "outputs": [],
   "source": [
    "C,i,t = map(float,input().split())\n",
    "\n",
    "dic = {}\n",
    "mont = []\n",
    "rend = []\n",
    "tempo = int(t*4)\n",
    "\n",
    "for n in range(tempo+1):\n",
    "    M = C*((i+1)**n)\n",
    "    R = M - C\n",
    "    mont.append(M)\n",
    "    rend.append(R)\n",
    "\n",
    "for n in range(tempo):\n",
    "    dic[n] = [rend[n+1] - rend[n], mont[n+1]]\n",
    "    print(\"Rendimento:\", dic[n][0], \"Montante:\", \"{:.2f}\".format(dic[n][1]))"
   ]
  },
  {
   "cell_type": "markdown",
   "id": "6f2404be-8aee-4358-b0bc-309baf4e697a",
   "metadata": {
    "tags": []
   },
   "source": [
    "##### C[2]"
   ]
  },
  {
   "cell_type": "markdown",
   "id": "bad78867-1642-405b-9b9b-c9ad697c32ec",
   "metadata": {},
   "source": [
    "QUESTAO 3\n",
    "\n",
    "Sabe-se que anos bissextos são os anos que possuem 366 dias no calendário, esse dia representa o acrescimo de 1 dia em Fevereiro, que deixa de ter 28 dias, e passa a ter 29."
   ]
  },
  {
   "cell_type": "code",
   "execution_count": null,
   "id": "ba431e2f-79f1-42b2-bb32-e2ba813c8643",
   "metadata": {},
   "outputs": [],
   "source": [
    "anoInicial = int(input(\"ano inicial:\"))\n",
    "anoFinal = int(input(\"ano final:\"))\n",
    "\n"
   ]
  },
  {
   "cell_type": "markdown",
   "id": "09f25c23-8bcf-4d63-8af3-59351f4b8d0b",
   "metadata": {},
   "source": [
    "QUESTAO 4\n",
    "\n",
    "Faça uma função recursiva que receba um número inteiro positivo par N e imprima todos os números pares de 0 até N em ordem decrescente."
   ]
  },
  {
   "cell_type": "code",
   "execution_count": null,
   "id": "4c058ecf-7475-447a-a079-567b80660576",
   "metadata": {},
   "outputs": [],
   "source": [
    "N = int(input())\n",
    "\n",
    "numeros = []\n",
    "\n",
    "for i in range(N):\n",
    "    if i%2 == 0:\n",
    "        numeros.append(i)\n",
    "\n",
    "if "
   ]
  },
  {
   "cell_type": "markdown",
   "id": "f276fdd1-ed36-4e07-8446-265961dda070",
   "metadata": {
    "tags": []
   },
   "source": [
    "QUESTAO 5\n",
    "\n",
    "Devido aos altos índices de poluição, uma cidade resolveu multar as casas que possuem mais de 2 veículos em R$ 12.89 por mês por cada veículo extra. Escreva um programa que receba como entrada a quantidade de veículos de várias residências, até que seja informado o valor 999, e exiba o total mensal arrecadado com as multas, e a quantidade de casas multadas."
   ]
  },
  {
   "cell_type": "code",
   "execution_count": null,
   "id": "19efb6a7-b49e-4316-9b07-01e3df73979c",
   "metadata": {
    "tags": []
   },
   "outputs": [],
   "source": [
    "nv = int(input())\n",
    "veiculos = []\n",
    "numero_de_multas = 0\n",
    "total_multas = 0\n",
    "\n",
    "while nv != 999:\n",
    "    veiculos.append(nv)\n",
    "    nv = int(input())\n",
    "    \n",
    "for v in veiculos:\n",
    "    if v >= 3:\n",
    "        valor_multa = (v-2)*12.89\n",
    "        total_multas = total_multas + valor_multa\n",
    "        numero_de_multas = numero_de_multas + 1\n",
    "\n",
    "print(total_multas)\n",
    "print(numero_de_multas)"
   ]
  },
  {
   "cell_type": "code",
   "execution_count": null,
   "id": "c6a41606-bd5b-422e-b984-cd30733f361f",
   "metadata": {
    "tags": []
   },
   "outputs": [],
   "source": [
    "QUESTAO 6"
   ]
  },
  {
   "cell_type": "code",
   "execution_count": 170,
   "id": "9b4a6aad-8466-4d38-ab66-6f0345331807",
   "metadata": {},
   "outputs": [
    {
     "ename": "KeyError",
     "evalue": "2",
     "output_type": "error",
     "traceback": [
      "\u001b[1;31m---------------------------------------------------------------------------\u001b[0m",
      "\u001b[1;31mKeyError\u001b[0m                                  Traceback (most recent call last)",
      "\u001b[1;32mc:\\Users\\Adel\\WorkshopPython-\\Exercicios_workshop.ipynb Célula 13\u001b[0m in \u001b[0;36m<cell line: 9>\u001b[1;34m()\u001b[0m\n\u001b[0;32m      <a href='vscode-notebook-cell:/c%3A/Users/Adel/WorkshopPython-/Exercicios_workshop.ipynb#X15sZmlsZQ%3D%3D?line=8'>9</a>\u001b[0m \u001b[39mif\u001b[39;00m a \u001b[39min\u001b[39;00m ano:\n\u001b[0;32m     <a href='vscode-notebook-cell:/c%3A/Users/Adel/WorkshopPython-/Exercicios_workshop.ipynb#X15sZmlsZQ%3D%3D?line=9'>10</a>\u001b[0m     \u001b[39mif\u001b[39;00m m \u001b[39min\u001b[39;00m meses:\n\u001b[1;32m---> <a href='vscode-notebook-cell:/c%3A/Users/Adel/WorkshopPython-/Exercicios_workshop.ipynb#X15sZmlsZQ%3D%3D?line=10'>11</a>\u001b[0m         \u001b[39mif\u001b[39;00m d \u001b[39min\u001b[39;00m dias[m]:\n\u001b[0;32m     <a href='vscode-notebook-cell:/c%3A/Users/Adel/WorkshopPython-/Exercicios_workshop.ipynb#X15sZmlsZQ%3D%3D?line=11'>12</a>\u001b[0m             \u001b[39mprint\u001b[39m(\u001b[39m\"\u001b[39m\u001b[39mvalida\u001b[39m\u001b[39m\"\u001b[39m)\n",
      "\u001b[1;31mKeyError\u001b[0m: 2"
     ]
    }
   ],
   "source": [
    "d,m,a = map(int,input().split())\n",
    "\n",
    "dias = {\"1\":[*range(1,32)], \"2\": [*range(1,29)], \"3\":[*range(1,32)], \"4\":[*range(1,31)], \"5\":[*range(1,32)], \"6\":[*range(1,31)], \"7\":[*range(1,32)], \"8\":[*range(1,32)], \"9\":[*range(1,31)], \"10\":[*range(1,32)], \"11\":[*range(1,31)], \"12\":[*range(1,32)]}\n",
    "meses = [1,2,3,4,5,6,7,8,9,10,11,12]\n",
    "ano = [*range(1900,2101)]\n",
    "biss = []\n",
    "\n",
    "for i in range(1900,2101):\n",
    "    if i%4 == 0:\n",
    "        if i%100 == 0 and i%400 == 0 and i%4 == 0:\n",
    "            biss.append(i)\n",
    "\n",
    "print(biss)\n",
    "\n",
    "\n",
    "if a in ano:\n",
    "    if m in meses:\n",
    "        if d in dias[m]:\n",
    "            print(\"valida\")\n",
    "\n"
   ]
  },
  {
   "cell_type": "code",
   "execution_count": 171,
   "id": "5e75ef92",
   "metadata": {},
   "outputs": [
    {
     "ename": "KeyError",
     "evalue": "2",
     "output_type": "error",
     "traceback": [
      "\u001b[1;31m---------------------------------------------------------------------------\u001b[0m",
      "\u001b[1;31mKeyError\u001b[0m                                  Traceback (most recent call last)",
      "\u001b[1;32mc:\\Users\\Adel\\WorkshopPython-\\Exercicios_workshop.ipynb Célula 14\u001b[0m in \u001b[0;36m<cell line: 1>\u001b[1;34m()\u001b[0m\n\u001b[1;32m----> <a href='vscode-notebook-cell:/c%3A/Users/Adel/WorkshopPython-/Exercicios_workshop.ipynb#X16sZmlsZQ%3D%3D?line=0'>1</a>\u001b[0m dias[\u001b[39m2\u001b[39;49m]\n",
      "\u001b[1;31mKeyError\u001b[0m: 2"
     ]
    }
   ],
   "source": [
    "\n",
    "\n",
    "dias[2]"
   ]
  },
  {
   "cell_type": "markdown",
   "id": "71b0d33c",
   "metadata": {},
   "source": [
    "QUESTAO 7\n",
    "\n",
    "Escreva um programa que receba como entrada vários números, até que seja informado o valor 99, e exiba o segundo maior número dentre os lidos.\n",
    "\n",
    "Dica: considere que sempre serão lidos pelo menos dois números"
   ]
  },
  {
   "cell_type": "markdown",
   "id": "4cbed3d7",
   "metadata": {},
   "source": []
  },
  {
   "cell_type": "code",
   "execution_count": null,
   "id": "eed3d4ee",
   "metadata": {},
   "outputs": [],
   "source": [
    "n = int(input())\n",
    "numeros = []\n",
    "numeros2 = []\n",
    "a = 0\n",
    "\n",
    "while n != 99:\n",
    "    numeros.append(n)\n",
    "    n = int(input())\n",
    "    \n",
    "for i in range(len(numeros)):\n",
    "    if a <= numeros[i]:\n",
    "        a = numeros[i]\n",
    "        numeros2.append(a)\n",
    "    else:\n",
    "        a = a\n",
    "        numeros2.append(a)\n",
    "\n",
    "N = len(numeros2)\n",
    "print(numeros2)\n",
    "print(numeros2[N-1])"
   ]
  },
  {
   "attachments": {},
   "cell_type": "markdown",
   "id": "051726df",
   "metadata": {},
   "source": [
    "QUESTAO 9\n",
    "\n",
    "Escreva um programa que leia da entrada padrão o valor N que representa a quantidade de termos da série abaixo e os somem de acordo com a fórmula abaixo. Um termo corresponde ao resultado da fórmula para cada valor de n. \n",
    "\n",
    "O resultado deve ser exibido na saída padrão. \n",
    "\n",
    "Escreva um programa que leia da entrada padrão o valor N que representa a quantidade de termos da série abaixo e os somem de acordo com a fórmula abaixo. Um termo corresponde ao resultado da fórmula para cada valor de n. \n",
    "\n",
    "O resultado deve ser exibido na saída padrão. "
   ]
  },
  {
   "cell_type": "code",
   "execution_count": 116,
   "id": "fe537407",
   "metadata": {},
   "outputs": [
    {
     "name": "stdout",
     "output_type": "stream",
     "text": [
      "S: 11.739564298244904\n",
      "2.267786838055\n",
      "0.894427191000\n",
      "0.577350269190\n"
     ]
    }
   ],
   "source": [
    "N = int(input())\n",
    "\n",
    "def f(num):\n",
    "    fat = 1\n",
    "    soma = 0\n",
    "    termos = []\n",
    "    for n in range(N):\n",
    "        fat = fat * (n+1)\n",
    "        s = pow(2*(n+1)+1,0.5)\n",
    "        soma = soma + fat/s\n",
    "        termos.append(soma)\n",
    "    return termos\n",
    "\n",
    "funcao = f(N)\n",
    "print(\"S:\", \"{:.12f}\".format(funcao[N-1]))\n",
    "\n",
    "for i in range(N-1):\n",
    "    if i == len(funcao) - 2:\n",
    "        print(\"{:.12f}\".format(funcao[0]))\n",
    "    else:\n",
    "        print(\"{:.12f}\".format(funcao[N-2-i]-funcao[N-3-i]))"
   ]
  },
  {
   "attachments": {},
   "cell_type": "markdown",
   "id": "73c47578",
   "metadata": {},
   "source": [
    "QUESTAO 10\n",
    "\n",
    "A série de Bourrier, um matemático obscuro do século I, se caracteriza por mudanças a cada termo. \n",
    "\n",
    "Escreva um programa que calcule a série de Bourrier abaixo para os N valores:"
   ]
  },
  {
   "cell_type": "code",
   "execution_count": null,
   "id": "f974c470",
   "metadata": {},
   "outputs": [],
   "source": [
    "N = int(input())\n",
    "pi = 3.14\n",
    "soma = 0\n",
    "\n",
    "for n in range(N):\n",
    "    if n%2 == 0:\n",
    "        a = pi*(N-(n+1))/pow(2,n+1)\n",
    "        soma = soma + a\n",
    "    else:\n",
    "        a = (1+n)*pow(N,n+1)\n",
    "        soma = soma + a\n",
    "\n",
    "print(\"Valor de S :\", \"{:.2f}\".format(soma))\n"
   ]
  },
  {
   "cell_type": "code",
   "execution_count": null,
   "id": "1a80ada2",
   "metadata": {},
   "outputs": [],
   "source": []
  }
 ],
 "metadata": {
  "kernelspec": {
   "display_name": "Python 3.9.12 ('base')",
   "language": "python",
   "name": "python3"
  },
  "language_info": {
   "codemirror_mode": {
    "name": "ipython",
    "version": 3
   },
   "file_extension": ".py",
   "mimetype": "text/x-python",
   "name": "python",
   "nbconvert_exporter": "python",
   "pygments_lexer": "ipython3",
   "version": "3.9.12"
  },
  "vscode": {
   "interpreter": {
    "hash": "0a998979d4ce4c0d71c5e34fae252f008a8c279dbf8480442f5a3f8676aadc3c"
   }
  }
 },
 "nbformat": 4,
 "nbformat_minor": 5
}
